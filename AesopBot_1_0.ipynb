{
  "nbformat": 4,
  "nbformat_minor": 0,
  "metadata": {
    "colab": {
      "name": "AesopBot_1_0",
      "provenance": [],
      "authorship_tag": "ABX9TyPIkZcRrHpiuiLKUUVUxlZI",
      "include_colab_link": true
    },
    "kernelspec": {
      "name": "python3",
      "display_name": "Python 3"
    }
  },
  "cells": [
    {
      "cell_type": "markdown",
      "metadata": {
        "id": "view-in-github",
        "colab_type": "text"
      },
      "source": [
        "<a href=\"https://colab.research.google.com/github/liamtrotzuk/aesop-twitter-bot/blob/master/AesopBot_1_0.ipynb\" target=\"_parent\"><img src=\"https://colab.research.google.com/assets/colab-badge.svg\" alt=\"Open In Colab\"/></a>"
      ]
    },
    {
      "cell_type": "markdown",
      "metadata": {
        "id": "73zNsF9yLvuF",
        "colab_type": "text"
      },
      "source": [
        "PACKAGES"
      ]
    },
    {
      "cell_type": "code",
      "metadata": {
        "id": "hIWezzeLXUeW",
        "colab_type": "code",
        "colab": {}
      },
      "source": [
        "import requests\n",
        "import re\n",
        "import time\n",
        "from bs4 import BeautifulSoup\n",
        "from array import array\n",
        "from datetime import date, datetime, timedelta\n",
        "import tweepy"
      ],
      "execution_count": 0,
      "outputs": []
    },
    {
      "cell_type": "markdown",
      "metadata": {
        "id": "m6wYWHUlL0il",
        "colab_type": "text"
      },
      "source": [
        "GUTENBERG"
      ]
    },
    {
      "cell_type": "code",
      "metadata": {
        "id": "1od0kwSERkMm",
        "colab_type": "code",
        "colab": {}
      },
      "source": [
        "URL = 'https://www.gutenberg.org/files/21/21-h/21-h.htm'\n",
        "page = requests.get(URL)"
      ],
      "execution_count": 0,
      "outputs": []
    },
    {
      "cell_type": "code",
      "metadata": {
        "id": "ifDVRP-rfXNf",
        "colab_type": "code",
        "colab": {}
      },
      "source": [
        "soup = BeautifulSoup(page.content, 'html.parser')"
      ],
      "execution_count": 0,
      "outputs": []
    },
    {
      "cell_type": "markdown",
      "metadata": {
        "id": "6xUEt8UG5dz7",
        "colab_type": "text"
      },
      "source": [
        "TWITTER"
      ]
    },
    {
      "cell_type": "code",
      "metadata": {
        "id": "XoJG_qSGZRiF",
        "colab_type": "code",
        "colab": {}
      },
      "source": [
        "auth = tweepy.OAuthHandler(\"API_KEY\", \"API_KEY_SECRET\")\n",
        "auth.set_access_token(\"ACCESS_TOKEN\", \"ACCCESS_TOKEN_SECRET\")"
      ],
      "execution_count": 0,
      "outputs": []
    },
    {
      "cell_type": "code",
      "metadata": {
        "id": "yOIUK6SEZzD6",
        "colab_type": "code",
        "colab": {}
      },
      "source": [
        "api = tweepy.API(auth)"
      ],
      "execution_count": 0,
      "outputs": []
    },
    {
      "cell_type": "markdown",
      "metadata": {
        "id": "0CKlAatqMcmi",
        "colab_type": "text"
      },
      "source": [
        "MAIN"
      ]
    },
    {
      "cell_type": "code",
      "metadata": {
        "colab_type": "code",
        "id": "vNDp5jmEBn-I",
        "colab": {}
      },
      "source": [
        "fables = []\n",
        "list_no = 0\n",
        "for tag in soup.find_all([\"h2\",\"p\"]):\n",
        "  if tag.name == \"h2\" and (\"The\" in tag.text or \"the\" in tag.text or \"and\" in tag.text) and (\"ggot\" not in tag.find_next_sibling(\"p\").text):\n",
        "    fables.append(list_no)\n",
        "    fables.append(tag)\n",
        "    fables.append(tag.find_next_sibling(\"p\"))\n",
        "    if \".\" in tag.find_next_sibling(\"p\").find_next_sibling(\"p\").text:\n",
        "      fables.append(tag.find_next_sibling(\"p\").find_next_sibling(\"p\"))\n",
        "    list_no = list_no + 1"
      ],
      "execution_count": 0,
      "outputs": []
    },
    {
      "cell_type": "code",
      "metadata": {
        "id": "n-1sgC4iX6Qm",
        "colab_type": "code",
        "colab": {}
      },
      "source": [
        "start_date = date(2020, 5, 26)\n",
        "date_diff_pre = date.today() - start_date\n",
        "pre_t = date_diff_pre.days\n",
        "t = pre_t % 308"
      ],
      "execution_count": 0,
      "outputs": []
    },
    {
      "cell_type": "code",
      "metadata": {
        "colab_type": "code",
        "id": "q5zqFSh8_8Ps",
        "colab": {}
      },
      "source": [
        "for x in fables:\n",
        "  if type(x) == int and x == t:\n",
        "    fable_name = fables[fables.index(x)+1].text\n",
        "    api.update_status(fable_name)\n",
        "    tweet_id = api.user_timeline(screen_name = 'AesopFableBot', count = 100, include_rts = False)[0].id\n",
        "    time.sleep(10)\n",
        "    fable_body_total_txt = fables[fables.index(x)+2].text.replace('\\r\\n','').replace('      ',' ')\n",
        "    text = []\n",
        "    text_iter = iter(text)\n",
        "    for sentence in re.split(r'([.\"].)',fable_body_total_txt):\n",
        "      text.append(sentence)\n",
        "    clean_text = [y+next(text_iter, '') for y in text_iter]\n",
        "    clean_text_iter = iter(clean_text)\n",
        "    tweet = ''\n",
        "    for z in clean_text_iter:\n",
        "      if len(tweet) + len(z) <= 280:\n",
        "        tweet = tweet + z\n",
        "      else:\n",
        "        api.update_status(tweet,tweet_id)\n",
        "        tweet_id = api.user_timeline(screen_name = 'AesopFableBot', count = 100, include_rts = False)[0].id\n",
        "        time.sleep(10)\n",
        "        tweet = z\n",
        "    api.update_status(tweet,tweet_id)\n",
        "    tweet_id = api.user_timeline(screen_name = 'AesopFableBot', count = 100, include_rts = False)[0].id\n",
        "    time.sleep(10)\n",
        "    if type(fables[fables.index(x)+3]) == int:\n",
        "      break\n",
        "    else:\n",
        "      tweet = fables[fables.index(x)+3].text.replace('\\r\\n','').replace('      ',' ')\n",
        "      api.update_status(tweet,tweet_id)\n",
        "else:\n",
        "  x = fables.index(x) + 1"
      ],
      "execution_count": 0,
      "outputs": []
    }
  ]
}